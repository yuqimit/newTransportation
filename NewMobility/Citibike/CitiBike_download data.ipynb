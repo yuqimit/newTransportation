{
 "cells": [
  {
   "cell_type": "code",
   "execution_count": 3,
   "metadata": {},
   "outputs": [],
   "source": [
    "import requests\n",
    "from zipfile import ZipFile\n",
    "import pandas as pd"
   ]
  },
  {
   "cell_type": "code",
   "execution_count": 4,
   "metadata": {},
   "outputs": [
    {
     "name": "stdout",
     "output_type": "stream",
     "text": [
      "File Name                                             Modified             Size\n",
      "201811-citibike-tripdata.csv                   2018-12-04 10:40:32    239642680\n",
      "Done!\n"
     ]
    }
   ],
   "source": [
    "r = requests.get('https://s3.amazonaws.com/tripdata/201811-citibike-tripdata.csv.zip', stream = True)\n",
    "with ZipFile('201811-citibike-tripdata.csv.zip', 'r') as zip: \n",
    "    zip.printdir() \n",
    "    zip.extractall() \n",
    "    print('Done!') \n",
    "    \n",
    "df1 = pd.read_csv('201811-citibike-tripdata.csv')"
   ]
  },
  {
   "cell_type": "code",
   "execution_count": null,
   "metadata": {},
   "outputs": [],
   "source": []
  }
 ],
 "metadata": {
  "kernelspec": {
   "display_name": "Python 3",
   "language": "python",
   "name": "python3"
  },
  "language_info": {
   "codemirror_mode": {
    "name": "ipython",
    "version": 3
   },
   "file_extension": ".py",
   "mimetype": "text/x-python",
   "name": "python",
   "nbconvert_exporter": "python",
   "pygments_lexer": "ipython3",
   "version": "3.6.8"
  }
 },
 "nbformat": 4,
 "nbformat_minor": 2
}
